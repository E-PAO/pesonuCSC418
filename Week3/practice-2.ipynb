{
 "cells": [
  {
   "cell_type": "code",
   "execution_count": null,
   "metadata": {},
   "outputs": [],
   "source": [
    "import numpy as np\n",
    "import matplotlib.pyplot as plt\n",
    "import cv2 as cv\n",
    "img = cv.imread('img/kronk.jpg', 0)\n",
    "\n",
    "plt.subplot(1,2,1)\n",
    "plt.title(\"Original\")\n",
    "plt.imshow(img)\n",
    "\n",
    "rows, cols = img.shape\n",
    "M = np.float32([[1, 0, 0], [0, -1, rows], [0, 0, 1]])\n",
    "reflected_img = cv.warpPerspective(img, M, (int(cols), int(rows)))\n",
    "\n",
    "plt.subplot(1, 2, 2)\n",
    "plt.title(\"Reflected Image\")\n",
    "plt.imshow(reflected_img)\n",
    "\n",
    "cv.imwrite['reflection_out.jpg', reflected_img]\n",
    "cv.waitKey(0)\n",
    "cv.destroyAllWindows()\n"
   ]
  }
 ],
 "metadata": {
  "kernelspec": {
   "display_name": "Python 3",
   "language": "python",
   "name": "python3"
  },
  "language_info": {
   "name": "python",
   "version": "3.12.3"
  }
 },
 "nbformat": 4,
 "nbformat_minor": 2
}
