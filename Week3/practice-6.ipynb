{
 "cells": [
  {
   "cell_type": "code",
   "execution_count": null,
   "metadata": {},
   "outputs": [],
   "source": [
    "import numpy as np\n",
    "import matplotlib.pyplot as plt \n",
    "import cv2 as cv \n",
    "\n",
    "img = cv.imread('img/kronk.jpg', 0)\n",
    "\n",
    "plt.subplot(1, 2, 1)\n",
    "plt.title('Original')\n",
    "plt.imshow(img)\n",
    "\n",
    "M = np.float32([[1, 0, 0], [0.5, 1, 0], [0, 0, 1]])\n",
    "sheared_img = cv.warpPerspective(img, M, (int(cols*1.5), int(rows*1.5)))\n",
    "\n",
    "plt.subplot(1, 2, 2)\n",
    "plt.title(\"Sheared Image Y-axis\")\n",
    "plt.imshow(sheared_img)\n",
    "\n",
    "\n",
    "cv.imwrite('img', sheared_img)\n",
    "cv.waitKey(0)\n",
    "cv.destroyAllWindows()"
   ]
  }
 ],
 "metadata": {
  "kernelspec": {
   "display_name": "Python 3",
   "language": "python",
   "name": "python3"
  },
  "language_info": {
   "name": "python",
   "version": "3.12.3"
  }
 },
 "nbformat": 4,
 "nbformat_minor": 2
}
