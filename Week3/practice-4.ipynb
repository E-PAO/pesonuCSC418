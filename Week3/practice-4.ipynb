{
 "cells": [
  {
   "cell_type": "code",
   "execution_count": null,
   "metadata": {},
   "outputs": [],
   "source": [
    "import numpy as np \n",
    "import matplotlib.pyplot as plt\n",
    "import cv2 as cv\n",
    "img = cv.imread('img/yzma.jpg', 0)\n",
    "\n",
    "plt.subplot(1, 2, 1)\n",
    "plt.title('Original')\n",
    "plt.imshow(img)\n",
    "\n",
    "cropped_img = img[450:700, 200:500]\n",
    "\n",
    "plt.subplot(1, 2, 2)\n",
    "plt.title(\"Cropped Image\")\n",
    "plt.imshow(cropped_img)\n",
    "\n",
    "\n",
    "cv.imwrite('cropped_out.jpg', cropped_img)\n",
    "cv.waitKey(0)\n",
    "cv.destroyAllWindows()"
   ]
  }
 ],
 "metadata": {
  "kernelspec": {
   "display_name": "Python 3",
   "language": "python",
   "name": "python3"
  },
  "language_info": {
   "name": "python",
   "version": "3.12.3"
  }
 },
 "nbformat": 4,
 "nbformat_minor": 2
}
