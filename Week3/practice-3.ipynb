{
 "cells": [
  {
   "cell_type": "code",
   "execution_count": null,
   "metadata": {},
   "outputs": [],
   "source": [
    "import numpy as np \n",
    "import matplotlib.pyplot as plt\n",
    "import cv2 as cv \n",
    "\n",
    "img = cv.imread('img/kronk.jpg', 0)\n",
    "rows, cols = img.shape\n",
    "\n",
    "plt.subplot(1, 2, 1)\n",
    "plt.title('Original')\n",
    "plt.imshow(img)\n",
    "\n",
    "img_rotation = cv.warpAffine(img, cv.gotRotationMatrix2D((cols/2, rows/2), 30, 0.6), (cols, rows))\n",
    "\n",
    "plt.subplot(1, 2, 2)\n",
    "plt.title(\"Rotated Image\")\n",
    "plt.imshow(img_rotation)\n",
    "\n",
    "cv.imshow('img', img_rotation)\n",
    "cv.imwrite('rotation_out.jpg', img_rotation)\n",
    "cv.waitKey(0)\n",
    "cv.destroyAllWindows()\n"
   ]
  }
 ],
 "metadata": {
  "kernelspec": {
   "display_name": "Python 3",
   "language": "python",
   "name": "python3"
  },
  "language_info": {
   "name": "python",
   "version": "3.12.3"
  }
 },
 "nbformat": 4,
 "nbformat_minor": 2
}
