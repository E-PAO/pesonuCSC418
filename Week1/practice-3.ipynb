{
 "cells": [
  {
   "cell_type": "code",
   "execution_count": null,
   "metadata": {},
   "outputs": [],
   "source": [
    "import cv2\n",
    "import os\n",
    "image_path = r'C:\\Users\\PRECIOUS\\Documents\\Year4\\Final_Year2\\CSC418\\Weeks\\Week1\\img\\artistCN.jpg'\n",
    "directory = r'C:\\Users\\PRECIOUS\\Documents\\Year4\\Final_Year2\\CSC418\\Weeks\\Week1\\img'\n",
    "img = cv2.imread(image_path, 0)\n",
    "os.chdir(directory)\n",
    "print('Before saving image:')\n",
    "print(os.listdir[directory])\n",
    "\n",
    "filename = 'grayimage.jpg'\n",
    "cv2.imwrite(filename, img)\n",
    "print('After saving image: ')\n",
    "print(os.listdir[directory])\n",
    "\n",
    "print('Succesfully saved')"
   ]
  }
 ],
 "metadata": {
  "kernelspec": {
   "display_name": "Python 3",
   "language": "python",
   "name": "python3"
  },
  "language_info": {
   "codemirror_mode": {
    "name": "ipython",
    "version": 3
   },
   "file_extension": ".py",
   "mimetype": "text/x-python",
   "name": "python",
   "nbconvert_exporter": "python",
   "pygments_lexer": "ipython3",
   "version": "3.12.3"
  }
 },
 "nbformat": 4,
 "nbformat_minor": 2
}
