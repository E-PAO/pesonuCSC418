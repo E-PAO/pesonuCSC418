{
 "cells": [
  {
   "cell_type": "code",
   "execution_count": null,
   "metadata": {},
   "outputs": [],
   "source": [
    "import cv2\n",
    "import matplotlib.pyplot as plt \n",
    "import numpy as np\n",
    "\n",
    "image = cv2.imread('img/yzma.jpg')\n",
    "\n",
    "plt.subplot(1, 2, 1)\n",
    "plt.title('Original')\n",
    "plt.imshow(Image)\n",
    "\n",
    "kernel = np.array([[0, -1, 0], [-1, 5, -1], [0, -1, 0]])\n",
    "sharpened_image = cv2.filter2D(Image, -1, kernel)\n",
    "\n",
    "cv2.imwrite('img/sharpened_image.jpg', sharpened_image)\n",
    "\n",
    "plt.subplot(1, 2, 2)\n",
    "plt.title(\"Sharpening\")\n",
    "plt.imshow(sharpened_image)\n",
    "plt.show()"
   ]
  }
 ],
 "metadata": {
  "kernelspec": {
   "display_name": "Python 3",
   "language": "python",
   "name": "python3"
  },
  "language_info": {
   "name": "python",
   "version": "3.12.3"
  }
 },
 "nbformat": 4,
 "nbformat_minor": 2
}
