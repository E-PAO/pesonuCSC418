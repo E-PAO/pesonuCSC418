{
 "cells": [
  {
   "cell_type": "code",
   "execution_count": null,
   "metadata": {},
   "outputs": [],
   "source": [
    "import cv2\n",
    "image1 = cv2.imread('img/yzma.jpg')\n",
    "imgage2 = cv2.imread('img/kronk.jpg')\n",
    "\n",
    "image1 = cv2.resize(image1, (500, 400))\n",
    "image2 = cv2.resize(image2, (500, 400))\n",
    "\n",
    "addImage = cv2.addWeighted(image1, 0.5, image2, 0.6, 0)\n",
    "\n",
    "cv2.imshow('Weighted Image', addImage)\n",
    "\n",
    "if cv2.waitKey(0) & 0xff == 27:\n",
    "    cv2.destroyAllWindows()"
   ]
  }
 ],
 "metadata": {
  "language_info": {
   "name": "python"
  }
 },
 "nbformat": 4,
 "nbformat_minor": 2
}
