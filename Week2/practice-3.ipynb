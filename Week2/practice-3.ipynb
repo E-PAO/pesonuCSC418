{
 "cells": [
  {
   "cell_type": "code",
   "execution_count": null,
   "metadata": {},
   "outputs": [],
   "source": [
    "import cv2\n",
    "import matplotlib.pyplot as plt\n",
    "import numpy np \n",
    "\n",
    "image = cv2.imread('img/yzma.jpg')\n",
    "\n",
    "plt.subplot(1, 2, 3)\n",
    "plt.title('Original')\n",
    "plt.imshow(image)\n",
    "\n",
    "brightness = 5\n",
    "contrast = 1.5\n",
    "image2 = cv2.addWeighted(image, contrast, np.zeros(image.shape, image.dtype), 0, brightness)\n",
    "\n",
    "cv2.imwrite('img/contrast_image.jpg', image2)\n",
    "\n",
    "plt.subplot(1, 2, 2)\n",
    "plt.title('Brightness & Contrast')\n",
    "plt.imshow(Image2)\n",
    "plt.show"
   ]
  }
 ],
 "metadata": {
  "kernelspec": {
   "display_name": "Python 3",
   "language": "python",
   "name": "python3"
  },
  "language_info": {
   "name": "python",
   "version": "3.12.3"
  }
 },
 "nbformat": 4,
 "nbformat_minor": 2
}
