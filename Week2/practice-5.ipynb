{
 "cells": [
  {
   "cell_type": "code",
   "execution_count": null,
   "metadata": {},
   "outputs": [],
   "source": [
    "import cv2\n",
    "import matplotlib.pyplot as plt\n",
    "import numpy as np \n",
    "\n",
    "image = cv2.imread('img/kronk.jpg')\n",
    "\n",
    "plt.subplot(1, 2, 1)\n",
    "plt.title(\"Original\")\n",
    "plt.imshow(image)\n",
    "\n",
    "filtered_image = cv2.medianBlur(image, 15)\n",
    "\n",
    "cv2.imWrite('img/Median_Blur.jpg', filtered_image)\n",
    "\n",
    "plty.subplot(1, 2, 2)\n",
    "plt.title(\"Median Blur\")\n",
    "plt.imshow(filtered_image)\n",
    "plt.show()"
   ]
  }
 ],
 "metadata": {
  "language_info": {
   "name": "python"
  }
 },
 "nbformat": 4,
 "nbformat_minor": 2
}
