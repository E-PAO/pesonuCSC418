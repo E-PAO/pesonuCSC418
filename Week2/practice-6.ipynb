{
 "cells": [
  {
   "cell_type": "code",
   "execution_count": null,
   "metadata": {},
   "outputs": [],
   "source": [
    "import cv2\n",
    "import matplotlib.pyplot as plt \n",
    "\n",
    "image = cv2.imread('img/yzma.jpg')\n",
    "\n",
    "plt.subplot(1,2,1)\n",
    "plt.title(\"Original\")\n",
    "plt.imshow(image)\n",
    "\n",
    "scaled_image = cv2.resize(image, None, fx=2, fy=2)\n",
    "\n",
    "cv2.imwrite('img/Scaled.jpg', scaled_image)\n",
    "\n",
    "plt.subplot(1, 2, 1)\n",
    "plt.title(\"Scaled\")\n",
    "plt.imshow(scaled_image)\n",
    "plt.show()"
   ]
  }
 ],
 "metadata": {
  "kernelspec": {
   "display_name": "Python 3",
   "language": "python",
   "name": "python3"
  },
  "language_info": {
   "name": "python",
   "version": "3.12.3"
  }
 },
 "nbformat": 4,
 "nbformat_minor": 2
}
