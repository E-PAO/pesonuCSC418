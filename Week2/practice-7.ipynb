{
 "cells": [
  {
   "cell_type": "code",
   "execution_count": null,
   "metadata": {},
   "outputs": [],
   "source": [
    "import cv2\n",
    "import matplotlib.pyplot as plt \n",
    "import numpy as np\n",
    "\n",
    "image = cv2.imread('img/kronk.jpg')\n",
    "\n",
    "plt.subplot(1,2,1)\n",
    "plt.title(\"Original\")\n",
    "plt.imshow(image)\n",
    "\n",
    "inverse_image = 255 - image\n",
    "\n",
    "cv2.imwrite('img/inverse_image.jpg', inverse_image)\n",
    "\n",
    "plt.subplot(1, 2, 1)\n",
    "plt.title(\"Inverse color\")\n",
    "plt.imshow(inverse_image)\n",
    "plt.show()"
   ]
  }
 ],
 "metadata": {
  "kernelspec": {
   "display_name": "Python 3",
   "language": "python",
   "name": "python3"
  },
  "language_info": {
   "name": "python",
   "version": "3.12.3"
  }
 },
 "nbformat": 4,
 "nbformat_minor": 2
}
