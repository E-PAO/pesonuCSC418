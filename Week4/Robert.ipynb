{
 "cells": [
  {
   "cell_type": "code",
   "execution_count": null,
   "metadata": {},
   "outputs": [],
   "source": [
    "import cv2\n",
    "import numpy as np \n",
    "\n",
    "image = cv2.imread('img/chimamanda.jpg', cv2.IMREAD_GRAYSCALE)\n",
    "\n",
    "image = cv2.GuassianBlur(image, (5,5), 0)\n",
    "\n",
    "kernel_x = np.array([[1, 0],\n",
    "                     [0, -1]])\n",
    "\n",
    "kernel_y = np.array([[0, -1],\n",
    "                     [-1, 0]])\n",
    "\n",
    "robert_x = cv2.filter2D(image, -1, kernel_x)\n",
    "robert_y = cv2.filter2D(image, -1, kernel_y)\n",
    "\n",
    "robert_combined = np.sqrt(np.square(robert_x) + np.square(robert_y))\n",
    "\n",
    "cv2.imshow('Original', image)\n",
    "cv2.imshow('Robert Edges', nuint8(robert_combined))\n",
    "\n",
    "cv2.waitKey(0)\n",
    "cv2.destroyAllWindows()"
   ]
  }
 ],
 "metadata": {
  "kernelspec": {
   "display_name": "Python 3",
   "language": "python",
   "name": "python3"
  },
  "language_info": {
   "name": "python",
   "version": "3.12.3"
  }
 },
 "nbformat": 4,
 "nbformat_minor": 2
}
