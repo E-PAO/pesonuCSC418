{
 "cells": [
  {
   "cell_type": "code",
   "execution_count": null,
   "metadata": {},
   "outputs": [],
   "source": [
    "import cv2\n",
    "\n",
    "image = cv2.imread('img/tolkien.jpg', cv2.IMREAD_GRAYSCALE)\n",
    "\n",
    "image = cv2.resize(image, (400, 400))\n",
    "\n",
    "edges = cv2.Canny(image, 100, 200)\n",
    "\n",
    "cv2.imsho('Original', image)\n",
    "cv2.imshow('Edges', edges)\n",
    "\n",
    "cv2.waitKey(0)\n",
    "cv2.destroyAllWindows()\n"
   ]
  }
 ],
 "metadata": {
  "language_info": {
   "name": "python"
  }
 },
 "nbformat": 4,
 "nbformat_minor": 2
}
