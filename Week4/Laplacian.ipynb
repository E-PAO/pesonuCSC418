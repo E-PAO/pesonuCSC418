{
 "cells": [
  {
   "cell_type": "code",
   "execution_count": null,
   "metadata": {},
   "outputs": [],
   "source": [
    "import cv2\n",
    "\n",
    "image = cv2.imread('img/han-kang.jpg', cv2.IMREAD_GRAYSCALE)\n",
    "\n",
    "image = cv2.resize(image, (400, 600))\n",
    "\n",
    "laplacian = cv2.Laplacian(image, cv2.CV_64F)\n",
    "\n",
    "laplacian = cv2.convertScaleAbs(laplacian)\n",
    "\n",
    "cv2.imshow('Original', image)\n",
    "cv2.imshow('Laplacian Edges', laplacian)\n",
    "\n",
    "cv2.waitkey(0)\n",
    "cv2.destroyAllWindows()"
   ]
  }
 ],
 "metadata": {
  "kernelspec": {
   "display_name": "Python 3",
   "language": "python",
   "name": "python3"
  },
  "language_info": {
   "name": "python",
   "version": "3.12.3"
  }
 },
 "nbformat": 4,
 "nbformat_minor": 2
}
