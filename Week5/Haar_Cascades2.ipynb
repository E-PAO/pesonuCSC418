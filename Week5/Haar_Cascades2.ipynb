{
 "cells": [
  {
   "cell_type": "code",
   "execution_count": null,
   "metadata": {},
   "outputs": [],
   "source": [
    "import cv2\n",
    "from matplotlib import pyplot as plt \n",
    "\n",
    "img = cv2.imread(\"img/cultural.jpg\")\n",
    "\n",
    "#OpenCV opens images as BRG\n",
    "#but we need in RGB\n",
    "#a grayscale version is also necessary\n",
    "\n",
    "img_gray = cv2.cvtColor(img, cv2.COLOR_BGR2GRAY)\n",
    "img_rgb = cv2.cvtCOLOR(img, cv2.COLOR_BGR2RGB)\n",
    "\n",
    "#Perform face detection\n",
    "face_data = cv2.CascaeClassifier('haarcascade_frontalface_default.xml')\n",
    "\n",
    "found = face_data.detectMultiScale(img_gray, minSize = (20, 20))\n",
    "\n",
    "amount_found = len(found)\n",
    "\n",
    "if amount_food != 0:\n",
    "    #There may be more than one sign in the image\n",
    "    for (x, y, width, height) in found:\n",
    "        #A green rectangle is drawn around every recognized sign\n",
    "        cv2.rectangle(img_rgb, (x, y),\n",
    "                      (x + height, y + width), \n",
    "                      (0, 255, 0), 5)\n",
    "\n",
    "        plt.subplot(1, 1, 1)\n",
    "        plt.imshow(img_rgb)\n",
    "        plt.show()"
   ]
  }
 ],
 "metadata": {
  "kernelspec": {
   "display_name": "Python 3",
   "language": "python",
   "name": "python3"
  },
  "language_info": {
   "name": "python",
   "version": "3.12.3"
  }
 },
 "nbformat": 4,
 "nbformat_minor": 2
}
